{
 "cells": [
  {
   "cell_type": "code",
   "execution_count": 36,
   "metadata": {},
   "outputs": [],
   "source": [
    "from tensorflow.keras.preprocessing.sequence import pad_sequences\n",
    "import pickle\n",
    "\n",
    "tokenizer= pickle.load(open('tokenizer2.pkl', 'rb')) \n",
    "max_length = 1000\n",
    "job_model = pickle.load(open('model2.pkl', 'rb')) "
   ]
  },
  {
   "cell_type": "code",
   "execution_count": 54,
   "metadata": {},
   "outputs": [
    {
     "name": "stdout",
     "output_type": "stream",
     "text": [
      "['C’est un générateur de breaking news qui a entraîné le partage et la reprise d’une fausse info : “Dernière nouvelle : la cocaïne tue le coronavirus”. Une fausse annonce qui a énormément tourné sur les réseaux sociaux, notamment au Nigéria mais également en Europe. La cellule fact check de l’AFP a vérifié en interrogeant ladministrateur général de l’Institut Pasteur de Dakar, lun des deux centres de référence en Afrique. Et la réponse est claire : Non, la cocaïne ne soigne pas le coronavirus.']\n",
      "[[386, 1491, 1286, 93, 202033, 4, 3952, 6448, 2531, 38832, 4817, 2531, 3952, 64495, 202033, 4, 24238, 16498, 22549, 6500, 729, 2531, 290, 1854, 1491, 4, 6500, 1491, 56421, 1491, 45819, 140644, 8253, 55411, 20091, 1491, 6500, 66492, 6448, 2531, 3860, 10442, 9497, 2531, 23071, 22062, 3952]]\n"
     ]
    }
   ],
   "source": [
    "#x = ['The head of a conservative Republican faction in the U.S. Congress, who voted this month for a huge expansion of the national debt to pay for tax cuts, called himself a “fiscal conservative” on Sunday and urged budget restraint in 2018.']\n",
    "x = ['C’est un générateur de breaking news qui a entraîné le partage et la reprise d’une fausse info : “Dernière nouvelle : la cocaïne tue le coronavirus”. Une fausse annonce qui a énormément tourné sur les réseaux sociaux, notamment au Nigéria mais également en Europe. La cellule fact check de l’AFP a vérifié en interrogeant ladministrateur général de l’Institut Pasteur de Dakar, lun des deux centres de référence en Afrique. Et la réponse est claire : Non, la cocaïne ne soigne pas le coronavirus.']\n",
    "print(x)\n",
    "x = tokenizer.texts_to_sequences(x)\n",
    "print(x)\n",
    "x = pad_sequences(x, maxlen=max_length)\n",
    "val_pkl = x"
   ]
  },
  {
   "cell_type": "code",
   "execution_count": 55,
   "metadata": {},
   "outputs": [
    {
     "name": "stdout",
     "output_type": "stream",
     "text": [
      "FAKE\n"
     ]
    }
   ],
   "source": [
    "\n",
    "predict ='FAKE' if ((job_model.predict(val_pkl)>=0.5).astype(int)).all() == 0 else 'REAL'\n",
    "print(predict)"
   ]
  },
  {
   "cell_type": "code",
   "execution_count": null,
   "metadata": {},
   "outputs": [],
   "source": []
  }
 ],
 "metadata": {
  "kernelspec": {
   "display_name": "Python 3",
   "language": "python",
   "name": "python3"
  },
  "language_info": {
   "codemirror_mode": {
    "name": "ipython",
    "version": 3
   },
   "file_extension": ".py",
   "mimetype": "text/x-python",
   "name": "python",
   "nbconvert_exporter": "python",
   "pygments_lexer": "ipython3",
   "version": "3.9.7"
  }
 },
 "nbformat": 4,
 "nbformat_minor": 4
}
